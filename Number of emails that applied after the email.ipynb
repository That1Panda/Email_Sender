{
 "cells": [
  {
   "cell_type": "code",
   "execution_count": 26,
   "id": "99a868dd",
   "metadata": {},
   "outputs": [
    {
     "data": {
      "text/plain": [
       "{2}"
      ]
     },
     "execution_count": 26,
     "metadata": {},
     "output_type": "execute_result"
    }
   ],
   "source": [
    "li={1,2,3}\n",
    "li2={2,5,6}\n",
    "set(li).intersection(li2)"
   ]
  },
  {
   "cell_type": "code",
   "execution_count": 27,
   "id": "e0f44a51",
   "metadata": {},
   "outputs": [
    {
     "data": {
      "text/plain": [
       "{1, 3}"
      ]
     },
     "execution_count": 27,
     "metadata": {},
     "output_type": "execute_result"
    }
   ],
   "source": [
    "li-{2}"
   ]
  },
  {
   "cell_type": "code",
   "execution_count": 18,
   "id": "3e761d73",
   "metadata": {},
   "outputs": [
    {
     "data": {
      "text/plain": [
       "1996"
      ]
     },
     "execution_count": 18,
     "metadata": {},
     "output_type": "execute_result"
    }
   ],
   "source": [
    "import pandas as pd\n",
    "emails=pd.read_csv(\"final_emails.csv\")\n",
    "emails=list(emails[\"0\"].values)\n",
    "len(emails)"
   ]
  },
  {
   "cell_type": "code",
   "execution_count": 20,
   "id": "4d902e65",
   "metadata": {},
   "outputs": [],
   "source": [
    "import pandas as pd\n",
    "emails2=pd.read_csv(\"Members Recruitment 23 - All Members.csv\")\n",
    "\n",
    "new_emails=list(emails2[\"Unnamed: 1\"][198:291].values)"
   ]
  },
  {
   "cell_type": "code",
   "execution_count": 24,
   "id": "f9879446",
   "metadata": {},
   "outputs": [
    {
     "data": {
      "text/plain": [
       "25"
      ]
     },
     "execution_count": 24,
     "metadata": {},
     "output_type": "execute_result"
    }
   ],
   "source": [
    "len(set(emails).intersection(new_emails))"
   ]
  },
  {
   "cell_type": "code",
   "execution_count": null,
   "id": "7d3f5989",
   "metadata": {},
   "outputs": [],
   "source": []
  }
 ],
 "metadata": {
  "kernelspec": {
   "display_name": "Python 3 (ipykernel)",
   "language": "python",
   "name": "python3"
  },
  "language_info": {
   "codemirror_mode": {
    "name": "ipython",
    "version": 3
   },
   "file_extension": ".py",
   "mimetype": "text/x-python",
   "name": "python",
   "nbconvert_exporter": "python",
   "pygments_lexer": "ipython3",
   "version": "3.9.7"
  }
 },
 "nbformat": 4,
 "nbformat_minor": 5
}
